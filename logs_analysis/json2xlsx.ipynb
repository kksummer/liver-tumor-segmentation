{
 "cells": [
  {
   "cell_type": "code",
   "execution_count": 1,
   "outputs": [],
   "source": [
    "import json\n",
    "import numpy as np\n",
    "import matplotlib.pyplot as plt\n",
    "\n",
    "import pandas as pd"
   ],
   "metadata": {
    "collapsed": false,
    "ExecuteTime": {
     "end_time": "2023-11-03T14:42:26.082470665Z",
     "start_time": "2023-11-03T14:42:25.755702757Z"
    }
   },
   "id": "d8325318c7ce54a"
  },
  {
   "cell_type": "code",
   "execution_count": 4,
   "id": "initial_id",
   "metadata": {
    "collapsed": true,
    "ExecuteTime": {
     "end_time": "2023-11-03T14:42:33.080857710Z",
     "start_time": "2023-11-03T14:42:33.061833501Z"
    }
   },
   "outputs": [],
   "source": [
    "loss_path = '../logs/LiTs_lwt/UNet-liver_training-ian.json'"
   ]
  },
  {
   "cell_type": "code",
   "execution_count": 6,
   "outputs": [],
   "source": [
    "with open(loss_path, 'r') as f:\n",
    "    data = json.load(f)"
   ],
   "metadata": {
    "collapsed": false,
    "ExecuteTime": {
     "end_time": "2023-11-03T14:42:34.127973984Z",
     "start_time": "2023-11-03T14:42:34.126168913Z"
    }
   },
   "id": "cc0fc54b69190118"
  },
  {
   "cell_type": "code",
   "execution_count": 7,
   "outputs": [],
   "source": [
    "epoch_list = []\n",
    "loss_list = []\n",
    "dice_list = []\n",
    "\n",
    "epoch = [d.get(\"epoch\") for d in data if \"epoch\" in d]\n",
    "loss = [d.get(\"loss\") for d in data if \"loss\" in d]\n",
    "\n",
    "epoch = np.array(epoch)\n",
    "loss = np.array(loss)\n",
    "\n",
    "# 另存为xlsx文件\n",
    "df = pd.DataFrame({'epoch': epoch, 'loss': loss})\n",
    "df.to_excel('./loss.xlsx', sheet_name='data', index=False)\n"
   ],
   "metadata": {
    "collapsed": false,
    "ExecuteTime": {
     "end_time": "2023-11-03T14:42:39.170577095Z",
     "start_time": "2023-11-03T14:42:39.167816664Z"
    }
   },
   "id": "df9cd660300ac58"
  },
  {
   "cell_type": "code",
   "execution_count": null,
   "outputs": [],
   "source": [],
   "metadata": {
    "collapsed": false
   },
   "id": "267a524df1cee477"
  }
 ],
 "metadata": {
  "kernelspec": {
   "display_name": "Python 3",
   "language": "python",
   "name": "python3"
  },
  "language_info": {
   "codemirror_mode": {
    "name": "ipython",
    "version": 2
   },
   "file_extension": ".py",
   "mimetype": "text/x-python",
   "name": "python",
   "nbconvert_exporter": "python",
   "pygments_lexer": "ipython2",
   "version": "2.7.6"
  }
 },
 "nbformat": 4,
 "nbformat_minor": 5
}
